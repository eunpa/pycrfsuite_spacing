{
 "cells": [
  {
   "cell_type": "markdown",
   "metadata": {},
   "source": [
    "## 데이터셋\n",
    "\n",
    "데이터는 영화 '라라랜드'의 네이버영화의 평점에 기록되어 있는 커멘트 15,603개 입니다. "
   ]
  },
  {
   "cell_type": "code",
   "execution_count": 1,
   "metadata": {},
   "outputs": [
    {
     "name": "stdout",
     "output_type": "stream",
     "text": [
      "n docs = 15603\n",
      "['시사회에서 보고왔습니다동화와 재즈뮤지컬의 만남 지루하지않고 재밌습니다',\n",
      " '사랑과 꿈 그 흐름의 아름다움을 음악과 영상으로 최대한 담아놓았다 배우들 연기는 두말할것없고',\n",
      " '지금껏 영화 평가 해본 적이 없는데 진짜 최고네요 색감 스토리 음악 연기 모두ㅜㅜ최고입니다',\n",
      " '방금 시사회 보고 왔어요 배우들 매력이 눈을 뗄 수가 없게 만드네요 한편의 그림 같은 장면들도 많고 음악과 춤이 눈과 귀를 사로 잡았어요 '\n",
      " '한번 더 보고 싶네요',\n",
      " '초반부터 끝까지 재미있게 잘보다가 결말에서 고국마 왕창먹음 힐링 받는 느낌들다가 막판에 기분 잡쳤습니다 마치 감독이 하고싶은 말은 '\n",
      " '너희들이 원하는 결말은 이거지 하지만 현실은 이거다 라고 말하고 싶었나보군요']\n"
     ]
    }
   ],
   "source": [
    "from pprint import pprint\n",
    "\n",
    "with open('./data/134963_norm.txt', encoding='utf-8') as f:\n",
    "    docs = [doc.strip() for doc in f]\n",
    "\n",
    "print('n docs = %d' % len(docs))\n",
    "pprint(docs[:5])"
   ]
  },
  {
   "cell_type": "markdown",
   "metadata": {},
   "source": [
    "## PyCRFSuite spacing 학습데이터 만들기"
   ]
  },
  {
   "cell_type": "code",
   "execution_count": 2,
   "metadata": {},
   "outputs": [],
   "source": [
    "import sys\n",
    "sys.path.append('../')\n",
    "\n",
    "from pycrfsuite_spacing import TemplateGenerator\n",
    "from pycrfsuite_spacing import CharacterFeatureTransformer\n",
    "from pycrfsuite_spacing import sent_to_chartags\n",
    "from pycrfsuite_spacing import sent_to_xy"
   ]
  },
  {
   "cell_type": "markdown",
   "metadata": {},
   "source": [
    "sent_to_chars는 띄어쓰기가 있는 문장을 글자와 띄어쓰기 태그로 변환해줍니다. 띄어쓰기/붙여쓰기의 태그를 지정할 수 있습니다. default는 space = 1, nonspace = 0으로 int 입니다. "
   ]
  },
  {
   "cell_type": "code",
   "execution_count": 3,
   "metadata": {},
   "outputs": [
    {
     "name": "stdout",
     "output_type": "stream",
     "text": [
      "이것도너프해보시지\n",
      "['0', '0', '1', '0', '0', '1', '0', '0', '1']\n"
     ]
    }
   ],
   "source": [
    "chars, tags = sent_to_chartags('이것도 너프해 보시지', space='1', nonspace='0')\n",
    "print(chars)\n",
    "print(tags)"
   ]
  },
  {
   "cell_type": "markdown",
   "metadata": {},
   "source": [
    "빈 문자가 입력되면 빈 글자와 empty list 가 변환됩니다. "
   ]
  },
  {
   "cell_type": "code",
   "execution_count": 5,
   "metadata": {},
   "outputs": [
    {
     "data": {
      "text/plain": [
       "('', [])"
      ]
     },
     "execution_count": 5,
     "metadata": {},
     "output_type": "execute_result"
    }
   ],
   "source": [
    "sent_to_chartags('')"
   ]
  },
  {
   "cell_type": "markdown",
   "metadata": {},
   "source": [
    "TemplateGenerator는 앞 2 글자부터 뒤 2 글짜까지 길이가 3인 templates를 만든다는 의미입니다. 반드시 현재 글자 (index 0)가 포함된 부분만 template으로 만듭니다. "
   ]
  },
  {
   "cell_type": "code",
   "execution_count": 6,
   "metadata": {},
   "outputs": [
    {
     "data": {
      "text/plain": [
       "[(-2, 0), (-1, 1), (0, 2)]"
      ]
     },
     "execution_count": 6,
     "metadata": {},
     "output_type": "execute_result"
    }
   ],
   "source": [
    "TemplateGenerator(begin=-2, end=2, min_range_length=3,max_range_length=3).tolist()"
   ]
  },
  {
   "cell_type": "markdown",
   "metadata": {},
   "source": [
    "to_feature()는 template을 이용하여 문장에서 features를 만드는 함수입니다. CharacterFeatureTransformer의 instance는 callable 입니다. "
   ]
  },
  {
   "cell_type": "code",
   "execution_count": 7,
   "metadata": {},
   "outputs": [
    {
     "name": "stdout",
     "output_type": "stream",
     "text": [
      "[['X[0,2]=이것도'],\n",
      " ['X[-1,1]=이것도', 'X[0,2]=것도너'],\n",
      " ['X[-2,0]=이것도', 'X[-1,1]=것도너', 'X[0,2]=도너프'],\n",
      " ['X[-2,0]=것도너', 'X[-1,1]=도너프', 'X[0,2]=너프해'],\n",
      " ['X[-2,0]=도너프', 'X[-1,1]=너프해', 'X[0,2]=프해보'],\n",
      " ['X[-2,0]=너프해', 'X[-1,1]=프해보', 'X[0,2]=해보시'],\n",
      " ['X[-2,0]=프해보', 'X[-1,1]=해보시', 'X[0,2]=보시지'],\n",
      " ['X[-2,0]=해보시', 'X[-1,1]=보시지'],\n",
      " ['X[-2,0]=보시지']]\n",
      "['0', '0', '1', '0', '0', '1', '0', '0', '1']\n"
     ]
    }
   ],
   "source": [
    "to_feature = CharacterFeatureTransformer(TemplateGenerator(begin=-2, \n",
    "                                                           end=2,\n",
    "                                                           min_range_length=3,\n",
    "                                                           max_range_length=3))\n",
    "\n",
    "x, y = sent_to_xy('이것도 너프해 보시지', to_feature)\n",
    "pprint(x)\n",
    "print(y)"
   ]
  },
  {
   "cell_type": "markdown",
   "metadata": {},
   "source": [
    "## PyCRFSuite spacing 모델 학습하기\n",
    "\n",
    "모델을 학습합니다. 사용할 수 있는 arguments 입니다. \n",
    "\n",
    "- feature_minfreq\n",
    "    - 기본값은 0 입니다. 이 값이 지나치게 작으면 features 개수가 커집니다. 메모리가 많이 필요하니 적절한 수준으로 잡아줍니다. \n",
    "- max_iterations\n",
    "    - 기본값은 100 입니다. \n",
    "- l1_cost, l2_cost\n",
    "    - 기본값은 각각 l1_cost = 0, l2_cost=1.0 입니다. Lasso CRF 를 이용하려면 l2_cost = 0, l1_cost > 0 으로 설정합니다.\n",
    "    - L1, L2 regularization 을 모두 이용하려면 l1_cost > 0 & l2_cost > 0 으로 설정합니다. \n",
    "\n",
    "default parameter 를 이용하려면 아래처럼 to_feature 만 입력합니다. \n",
    "\n",
    "    correct = PyCRFSuiteSpacing(to_feature)"
   ]
  },
  {
   "cell_type": "code",
   "execution_count": 8,
   "metadata": {
    "collapsed": true
   },
   "outputs": [],
   "source": [
    "from pycrfsuite_spacing import PyCRFSuiteSpacing\n",
    "\n",
    "correct = PyCRFSuiteSpacing(\n",
    "    to_feature = to_feature,\n",
    "    feature_minfreq=3, # default = 0\n",
    "    max_iterations=100,\n",
    "    l1_cost=1.0,\n",
    "    l2_cost=1.0\n",
    ")\n",
    "correct.train(docs, 'demo_model.crfsuite')"
   ]
  },
  {
   "cell_type": "markdown",
   "metadata": {},
   "source": [
    "학습된 모델을 불러올 수도 있습니다. "
   ]
  },
  {
   "cell_type": "code",
   "execution_count": 9,
   "metadata": {
    "collapsed": true
   },
   "outputs": [],
   "source": [
    "correct.load_tagger('demo_model.crfsuite')"
   ]
  },
  {
   "cell_type": "markdown",
   "metadata": {},
   "source": [
    "## PyCRFSuite spacing 으로 띄어쓰기 오류 교정하기"
   ]
  },
  {
   "cell_type": "code",
   "execution_count": 10,
   "metadata": {},
   "outputs": [
    {
     "data": {
      "text/plain": [
       "'이건 진짜 좋은 영화 라라랜드 진짜 좋은 영화'"
      ]
     },
     "execution_count": 10,
     "metadata": {},
     "output_type": "execute_result"
    }
   ],
   "source": [
    "correct('이건진짜좋은영화라라랜드진짜좋은영화')"
   ]
  }
 ],
 "metadata": {
  "kernelspec": {
   "display_name": "Python 3",
   "language": "python",
   "name": "python3"
  },
  "language_info": {
   "codemirror_mode": {
    "name": "ipython",
    "version": 3
   },
   "file_extension": ".py",
   "mimetype": "text/x-python",
   "name": "python",
   "nbconvert_exporter": "python",
   "pygments_lexer": "ipython3",
   "version": "3.6.2"
  }
 },
 "nbformat": 4,
 "nbformat_minor": 1
}
